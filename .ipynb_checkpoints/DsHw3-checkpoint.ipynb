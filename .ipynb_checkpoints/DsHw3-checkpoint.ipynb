{
 "cells": [
  {
   "cell_type": "code",
   "execution_count": 14,
   "id": "871a9e72-8ce2-4cd7-beb3-99fe2703605d",
   "metadata": {},
   "outputs": [],
   "source": [
    "import pandas as pd\n",
    "import numpy as np\n",
    "import matplotlib.pyplot as plt\n",
    "import seaborn as sns\n",
    "from sklearn import preprocessing\n",
    "from sklearn.linear_model import LinearRegression"
   ]
  },
  {
   "cell_type": "code",
   "execution_count": 46,
   "id": "21adf608-0acb-4cd9-baa5-6b6715e43ba8",
   "metadata": {},
   "outputs": [],
   "source": [
    "def h(X, w_vec):\n",
    "    return np.dot(X, w_vec)"
   ]
  },
  {
   "cell_type": "code",
   "execution_count": 51,
   "id": "8ee5cbb8-2e71-4a8a-a9e5-2fd3d9098f86",
   "metadata": {},
   "outputs": [],
   "source": [
    "def loss_function(X, w_vec, y):\n",
    "    m = y.size\n",
    "    cost = (1 / (2 * m)) * np.sum(np.square(h(X, w_vec) - y))\n",
    "    return cost"
   ]
  },
  {
   "cell_type": "code",
   "execution_count": 52,
   "id": "d0433b5d-07b1-43df-a144-9bbf30a3d68e",
   "metadata": {},
   "outputs": [],
   "source": [
    "def gradient(X, w_vec, y):\n",
    "    m = y.size\n",
    "    y_pred = h(X, w_vec)\n",
    "    grad = X.T @ (y_pred - y)\n",
    "    return grad / m"
   ]
  },
  {
   "cell_type": "code",
   "execution_count": 65,
   "id": "3dcce56f-3935-4c42-b0eb-d3b68d43629d",
   "metadata": {},
   "outputs": [],
   "source": [
    "def grad_descent(X, w_vec, y, num_iterations, learning_rate):\n",
    "    \n",
    "    best_loss = np.inf\n",
    "    loss_history = []\n",
    "    for i in range(num_iterations):    \n",
    "        w_vec -= learning_rate * gradient(X, w_vec, y)\n",
    "\n",
    "        loss = loss_function(X, w_vec, y)\n",
    "        loss_history.append(loss)\n",
    "    \n",
    "        if loss < best_loss:\n",
    "            best_loss = loss\n",
    "            best_weights = w.copy()\n",
    "\n",
    "    return best_weights, loss_history"
   ]
  },
  {
   "cell_type": "code",
   "execution_count": 36,
   "id": "e311e7ab-348d-4134-aef7-75d0ae2bf7d4",
   "metadata": {},
   "outputs": [],
   "source": [
    "def norm(data):\n",
    "    data_mean = data.mean(axis = 0)\n",
    "    data_std = data.std(axis = 0)\n",
    "    return (data - data_mean) / data_std"
   ]
  },
  {
   "cell_type": "code",
   "execution_count": 18,
   "id": "7a4267c4-83fe-43b3-8998-8538e0af90e8",
   "metadata": {},
   "outputs": [],
   "source": [
    "df = pd.read_csv(\"Housing.csv\")"
   ]
  },
  {
   "cell_type": "code",
   "execution_count": 19,
   "id": "ebed3740-aded-4e5b-8b2f-52eb16a963fd",
   "metadata": {},
   "outputs": [
    {
     "data": {
      "text/html": [
       "<div>\n",
       "<style scoped>\n",
       "    .dataframe tbody tr th:only-of-type {\n",
       "        vertical-align: middle;\n",
       "    }\n",
       "\n",
       "    .dataframe tbody tr th {\n",
       "        vertical-align: top;\n",
       "    }\n",
       "\n",
       "    .dataframe thead th {\n",
       "        text-align: right;\n",
       "    }\n",
       "</style>\n",
       "<table border=\"1\" class=\"dataframe\">\n",
       "  <thead>\n",
       "    <tr style=\"text-align: right;\">\n",
       "      <th></th>\n",
       "      <th>price</th>\n",
       "      <th>area</th>\n",
       "      <th>bedrooms</th>\n",
       "      <th>bathrooms</th>\n",
       "      <th>stories</th>\n",
       "      <th>mainroad</th>\n",
       "      <th>guestroom</th>\n",
       "      <th>basement</th>\n",
       "      <th>hotwaterheating</th>\n",
       "      <th>airconditioning</th>\n",
       "      <th>parking</th>\n",
       "      <th>prefarea</th>\n",
       "      <th>furnishingstatus</th>\n",
       "    </tr>\n",
       "  </thead>\n",
       "  <tbody>\n",
       "    <tr>\n",
       "      <th>0</th>\n",
       "      <td>13300000</td>\n",
       "      <td>7420</td>\n",
       "      <td>4</td>\n",
       "      <td>2</td>\n",
       "      <td>3</td>\n",
       "      <td>yes</td>\n",
       "      <td>no</td>\n",
       "      <td>no</td>\n",
       "      <td>no</td>\n",
       "      <td>yes</td>\n",
       "      <td>2</td>\n",
       "      <td>yes</td>\n",
       "      <td>furnished</td>\n",
       "    </tr>\n",
       "    <tr>\n",
       "      <th>1</th>\n",
       "      <td>12250000</td>\n",
       "      <td>8960</td>\n",
       "      <td>4</td>\n",
       "      <td>4</td>\n",
       "      <td>4</td>\n",
       "      <td>yes</td>\n",
       "      <td>no</td>\n",
       "      <td>no</td>\n",
       "      <td>no</td>\n",
       "      <td>yes</td>\n",
       "      <td>3</td>\n",
       "      <td>no</td>\n",
       "      <td>furnished</td>\n",
       "    </tr>\n",
       "    <tr>\n",
       "      <th>2</th>\n",
       "      <td>12250000</td>\n",
       "      <td>9960</td>\n",
       "      <td>3</td>\n",
       "      <td>2</td>\n",
       "      <td>2</td>\n",
       "      <td>yes</td>\n",
       "      <td>no</td>\n",
       "      <td>yes</td>\n",
       "      <td>no</td>\n",
       "      <td>no</td>\n",
       "      <td>2</td>\n",
       "      <td>yes</td>\n",
       "      <td>semi-furnished</td>\n",
       "    </tr>\n",
       "    <tr>\n",
       "      <th>3</th>\n",
       "      <td>12215000</td>\n",
       "      <td>7500</td>\n",
       "      <td>4</td>\n",
       "      <td>2</td>\n",
       "      <td>2</td>\n",
       "      <td>yes</td>\n",
       "      <td>no</td>\n",
       "      <td>yes</td>\n",
       "      <td>no</td>\n",
       "      <td>yes</td>\n",
       "      <td>3</td>\n",
       "      <td>yes</td>\n",
       "      <td>furnished</td>\n",
       "    </tr>\n",
       "    <tr>\n",
       "      <th>4</th>\n",
       "      <td>11410000</td>\n",
       "      <td>7420</td>\n",
       "      <td>4</td>\n",
       "      <td>1</td>\n",
       "      <td>2</td>\n",
       "      <td>yes</td>\n",
       "      <td>yes</td>\n",
       "      <td>yes</td>\n",
       "      <td>no</td>\n",
       "      <td>yes</td>\n",
       "      <td>2</td>\n",
       "      <td>no</td>\n",
       "      <td>furnished</td>\n",
       "    </tr>\n",
       "  </tbody>\n",
       "</table>\n",
       "</div>"
      ],
      "text/plain": [
       "      price  area  bedrooms  bathrooms  stories mainroad guestroom basement  \\\n",
       "0  13300000  7420         4          2        3      yes        no       no   \n",
       "1  12250000  8960         4          4        4      yes        no       no   \n",
       "2  12250000  9960         3          2        2      yes        no      yes   \n",
       "3  12215000  7500         4          2        2      yes        no      yes   \n",
       "4  11410000  7420         4          1        2      yes       yes      yes   \n",
       "\n",
       "  hotwaterheating airconditioning  parking prefarea furnishingstatus  \n",
       "0              no             yes        2      yes        furnished  \n",
       "1              no             yes        3       no        furnished  \n",
       "2              no              no        2      yes   semi-furnished  \n",
       "3              no             yes        3      yes        furnished  \n",
       "4              no             yes        2       no        furnished  "
      ]
     },
     "execution_count": 19,
     "metadata": {},
     "output_type": "execute_result"
    }
   ],
   "source": [
    "df.head()"
   ]
  },
  {
   "cell_type": "code",
   "execution_count": 67,
   "id": "ac907f87-1b78-4cba-a384-a5ae745be8de",
   "metadata": {},
   "outputs": [],
   "source": [
    "X = df[[\"area\", \"bedrooms\", \"bathrooms\"]].values\n",
    "y = df[\"price\"].values.reshape(-1, 1)\n",
    "\n",
    "X_norm = norm(X)\n",
    "y_norm = norm(y)\n",
    "\n",
    "X_norm = np.hstack((np.ones((y.size, 1)), X_norm))\n",
    "\n",
    "n = X.shape[1]\n",
    "w = np.zeros((n + 1, 1))\n",
    "\n",
    "learning_rate = 0.01\n",
    "num_iterations = 2000\n",
    "\n",
    "w, loss_history = grad_descent(X_norm, w, y_norm, num_iterations, learning_rate)"
   ]
  },
  {
   "cell_type": "code",
   "execution_count": 68,
   "id": "c42d1fa7-92f3-4fc5-bafd-9c0bec49ecab",
   "metadata": {},
   "outputs": [],
   "source": [
    "X_norm_analytical = np.hstack((np.ones((y.size, 1)), X_norm[:, 1:]))\n",
    "w_analytical = np.linalg.inv(\n",
    "    X_norm_analytical.T @ X_norm_analytical\n",
    "    ) @ X_norm_analytical.T @ y_norm"
   ]
  },
  {
   "cell_type": "code",
   "execution_count": 71,
   "id": "d220fc47-f0a5-4dfa-8db0-5d67a0d2086b",
   "metadata": {},
   "outputs": [
    {
     "name": "stdout",
     "output_type": "stream",
     "text": [
      "Mean squared error (gradient descent): [[5.53376789e-16]\n",
      " [4.39452085e-01]\n",
      " [1.60528660e-01]\n",
      " [3.72344423e-01]]\n",
      "Mean squared error (analytical solution): [[3.03679609e-16]\n",
      " [4.39452124e-01]\n",
      " [1.60528959e-01]\n",
      " [3.72344106e-01]]\n"
     ]
    }
   ],
   "source": [
    "print(f\"Mean squared error (gradient descent): {w_analytical}\")\n",
    "print(f\"Mean squared error (analytical solution): {w}\")"
   ]
  }
 ],
 "metadata": {
  "kernelspec": {
   "display_name": "Python 3 (ipykernel)",
   "language": "python",
   "name": "python3"
  },
  "language_info": {
   "codemirror_mode": {
    "name": "ipython",
    "version": 3
   },
   "file_extension": ".py",
   "mimetype": "text/x-python",
   "name": "python",
   "nbconvert_exporter": "python",
   "pygments_lexer": "ipython3",
   "version": "3.10.11"
  }
 },
 "nbformat": 4,
 "nbformat_minor": 5
}
